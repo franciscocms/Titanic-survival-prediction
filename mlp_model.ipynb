{
  "nbformat": 4,
  "nbformat_minor": 0,
  "metadata": {
    "kernelspec": {
      "name": "python3",
      "display_name": "Python 3",
      "language": "python"
    },
    "language_info": {
      "name": "python",
      "version": "3.7.6",
      "mimetype": "text/x-python",
      "codemirror_mode": {
        "name": "ipython",
        "version": 3
      },
      "pygments_lexer": "ipython3",
      "nbconvert_exporter": "python",
      "file_extension": ".py"
    },
    "colab": {
      "name": "mlp_model.ipynb",
      "provenance": [],
      "toc_visible": true
    }
  },
  "cells": [
    {
      "cell_type": "code",
      "metadata": {
        "trusted": true,
        "scrolled": true,
        "id": "i-HBZ8y84S3k",
        "colab_type": "code",
        "colab": {
          "base_uri": "https://localhost:8080/",
          "height": 170
        },
        "outputId": "4443a988-dd44-4890-b58c-46b5994187ab"
      },
      "source": [
        "import numpy as np\n",
        "import pandas as pd\n",
        "import torch.nn as nn\n",
        "\n",
        "class MLP(nn.Module):  \n",
        "    \n",
        "    def __init__(self, features_in, hidden_neurons, hidden_layers):\n",
        "        super(MLP, self).__init__()\n",
        "        \n",
        "        self.features_in = features_in\n",
        "        self.hidden_neurons = hidden_neurons\n",
        "        self.hidden_layers = hidden_layers\n",
        "        self.output_neurons = 1\n",
        "        \n",
        "        self.fc1 = nn.Linear(self.features_in, self.hidden_neurons, True)\n",
        "        self.fc2 = nn.Linear(self.hidden_neurons, self.hidden_neurons, True)\n",
        "        \n",
        "        if self.hidden_layers == 2:\n",
        "            self.fc3 = nn.Linear(self.hidden_neurons, self.hidden_neurons, True)\n",
        "        if self.hidden_layers == 4:\n",
        "            self.fc3 = nn.Linear(self.hidden_neurons, self.hidden_neurons, True)\n",
        "            self.fc4 = nn.Linear(self.hidden_neurons, self.hidden_neurons, True)\n",
        "            self.fc5 = nn.Linear(self.hidden_neurons, self.hidden_neurons, True)\n",
        "        if self.hidden_layers == 6:\n",
        "            self.fc3 = nn.Linear(self.hidden_neurons, self.hidden_neurons, True)\n",
        "            self.fc4 = nn.Linear(self.hidden_neurons, self.hidden_neurons, True)\n",
        "            self.fc5 = nn.Linear(self.hidden_neurons, self.hidden_neurons, True)\n",
        "            self.fc6 = nn.Linear(self.hidden_neurons, self.hidden_neurons, True)\n",
        "            self.fc7 = nn.Linear(self.hidden_neurons, self.hidden_neurons, True)\n",
        "               \n",
        "        \n",
        "        self.dropout = nn.Dropout(0.25)\n",
        "        self.output = nn.Linear(self.hidden_neurons, self.output_neurons,  True)\n",
        "        \n",
        "        self.relu = nn.ReLU(inplace=True)\n",
        "        self.sigmoid = nn.Sigmoid()\n",
        "        \n",
        "    def forward(self, x):\n",
        "\n",
        "        batch_size = x.size(0)\n",
        "        x = x.view(batch_size, self.features_in)\n",
        "        x = self.relu(self.fc1(x))\n",
        "        x = self.dropout(x)\n",
        "        x = self.relu(self.fc2(x))\n",
        "        if self.hidden_layers == 2:\n",
        "            x = self.relu(self.fc3(x))\n",
        "        \n",
        "        x = self.sigmoid(self.output(x))\n",
        "\n",
        "        return x\n",
        "            \n",
        "hidden_neurons = 1024\n",
        "hidden_layers = 1\n",
        "batch_size = 8\n",
        "momentum = 0.9\n",
        "\n",
        "n_features = 10\n",
        "\n",
        "model = MLP(n_features, hidden_neurons, hidden_layers) # n_features = number of features of training/testing set\n",
        "print(model)\n",
        "\n",
        "model_state_dict = torch.hub.load_state_dict_from_url(\"https://github.com/franciscocms/Titanic-survival-prediction/releases/download/0.01/titanic_nn.zip\")\n",
        "model.load_state_dict(model_state_dict)"
      ],
      "execution_count": 14,
      "outputs": [
        {
          "output_type": "stream",
          "text": [
            "MLP(\n",
            "  (fc1): Linear(in_features=10, out_features=1024, bias=True)\n",
            "  (fc2): Linear(in_features=1024, out_features=1024, bias=True)\n",
            "  (dropout): Dropout(p=0.25, inplace=False)\n",
            "  (output): Linear(in_features=1024, out_features=1, bias=True)\n",
            "  (relu): ReLU(inplace=True)\n",
            "  (sigmoid): Sigmoid()\n",
            ")\n"
          ],
          "name": "stdout"
        },
        {
          "output_type": "execute_result",
          "data": {
            "text/plain": [
              "<All keys matched successfully>"
            ]
          },
          "metadata": {
            "tags": []
          },
          "execution_count": 14
        }
      ]
    }
  ]
}